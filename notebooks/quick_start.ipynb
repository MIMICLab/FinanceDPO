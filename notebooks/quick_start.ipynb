{
"cells": [
{
"cell_type": "markdown",
"metadata": {},
"source": [
"# DPO‑Finance Quick‑Start Notebook\n",
"This notebook walks through an end‑to‑end example:\n",
"1. Price data download (2 symbols, 3 years)\n",
"2. Preference‑pair generation\n",
"3. Model training (few epochs for demo)\n",
"4. Evaluation + simple back‑test\n",
"\n",
"> Note: For a full‑scale experiment, use the CLI scripts and full dataset instead."
]
},
{
"cell_type": "code",
"execution_count": null,
"metadata": {},
"outputs": [],
"source": [
"# Install dependencies in this Colab/local session (skip if env already set)\n",
"!pip -q install yfinance pytorch-lightning hydra-core wandb ta-lib pandas numpy scikit-learn finta"
]
},
{
"cell_type": "code",
"execution_count": null,
"metadata": {},
"outputs": [],
"source": [
"import os, pathlib, json, torch, pandas as pd, numpy as np\n",
"from importlib import reload\n",
"\n",
"# Clone or mount repo (replace with your path)\n",
"REPO_DIR = pathlib.Path('dpo_financial_repo').resolve()\n",
"if not REPO_DIR.exists():\n",
"    !git clone https://github.com/yourname/dpo_financial_repo.git\n",
"    REPO_DIR = pathlib.Path('dpo_financial_repo').resolve()\n",
"import sys, importlib; sys.path.append(str(REPO_DIR/'src'))"
]
},
{
"cell_type": "code",
"execution_count": null,
"metadata": {},
"outputs": [],
"source": [
"# 1. Download price data (AAPL & MSFT, 2022‑2024)\n",
"from dpo_forecasting.data.download import fetch_symbol, save_data\n",
"raw_dir = REPO_DIR/'data/raw'\n",
"raw_dir.mkdir(parents=True, exist_ok=True)\n",
"for sym in ['AAPL', 'MSFT']:\n",
"    df = fetch_symbol(sym, '2022-01-01', '2024-12-31')\n",
"    save_data(df, raw_dir/f'{sym}.csv')\n",
"print('Done.')"
]
},
{
"cell_type": "code",
"execution_count": null,
"metadata": {},
"outputs": [],
"source": [
"# 2. Make preference pairs (5‑day horizon, 80/20 quantiles)\n",
"from dpo_forecasting.data.make_pairs import make_pairs_for_symbol, load_price_csv\n",
"pairs = []\n",
"for csv in raw_dir.glob('*.csv'):\n",
"    sym = csv.stem\n",
"    df = load_price_csv(csv)\n",
"    p = make_pairs_for_symbol(df, lookahead=5, gq=0.8, bq=0.2)\n",
"    p.insert(0, 'symbol', sym)\n",
"    pairs.append(p)\n",
"pairs_df = pd.concat(pairs, ignore_index=True)\n",
"pairs_path = REPO_DIR/'data/demo_pairs.parquet'\n",
"pairs_df.to_parquet(pairs_path, index=False)\n",
"pairs_df.head()"
]
},
{
"cell_type": "code",
"execution_count": null,
"metadata": {},
"outputs": [],
"source": [
"# 3. Train tiny model (3 epochs)\n",
"from dpo_forecasting.data.dataset import PreferenceDataModule\n",
"from dpo_forecasting.models.dpo_model import DPOModel\n",
"import pytorch_lightning as pl\n",
"\n",
"cfg = {\n",
"    'model': {'input_dim': 29, 'hidden_sizes': [64, 64]},\n",
"    'train': {'lr': 1e-3, 'kl_coeff': 0.0},\n",
"}\n",
"dm = PreferenceDataModule(pairs_file=str(pairs_path), prices_dir=str(raw_dir), lookback=30, batch_size=128, val_fraction=0.1)\n",
"model = DPOModel(cfg)\n",
"trainer = pl.Trainer(max_epochs=3, logger=False, enable_checkpointing=False, deterministic=True)\n",
"trainer.fit(model, datamodule=dm)"
]
},
{
"cell_type": "code",
"execution_count": null,
"metadata": {},
"outputs": [],
"source": [
"# 4. Evaluate pairwise accuracy\n",
"from torch.utils.data import DataLoader\n",
"ds = dm.val_ds if dm.val_ds is not None else dm.train_ds\n",
"dl = DataLoader(ds, batch_size=512)\n",
"acc = 0\n",
"total = 0\n",
"for b in dl:\n",
"    acc += (model(b['good']) > model(b['bad'])).sum().item()\n",
"    total += len(b['good'])\n",
"print('Directional accuracy:', acc/total)"
]
},
{
"cell_type": "code",
"execution_count": null,
"metadata": {},
"outputs": [],
"source": [
"# 5. Quick back‑test (no costs)\n",
"from dpo_forecasting.data.dataset import ReturnWindowExtractor\n",
"extractor = ReturnWindowExtractor(30)\n",
"closes = load_price_csv(raw_dir/'AAPL.csv')\n",
"# compute equity curve for illustration... (simplified)\n",
"scores = []\n",
"for i in range(30, len(closes)-1):\n",
"    feat = extractor(closes, i)\n",
"    scores.append(model(torch.tensor(feat).unsqueeze(0)).item())\n",
"scores = np.array(scores)\n",
"high = np.quantile(scores, 0.75); low = np.quantile(scores, 0.25)\n",
"pos = np.where(scores>high, 1, np.where(scores<low, -1, 0))\n",
"ret = pos * (closes[31:] - closes[30:-1]) / closes[30:-1]\n",
"equity = np.cumprod(1+ret)\n",
"print('Mini Sharpe:', (ret.mean()*252)/(ret.std()*np.sqrt(252)))"
]
}
],
"metadata": {
"kernelspec": {
"display_name": "Python 3",
"language": "python",
"name": "python3"
},
"language_info": {
"name": "python",
"version": "3.11"
}
},
"nbformat": 4,
"nbformat_minor": 5
}

